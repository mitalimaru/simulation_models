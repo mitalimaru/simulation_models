{
 "cells": [
  {
   "cell_type": "code",
   "execution_count": 1,
   "id": "0e7151a2",
   "metadata": {},
   "outputs": [],
   "source": [
    "import numpy as np\n",
    "import matplotlib.pyplot as plt\n",
    "import pandas as pd\n",
    "from scipy.stats import uniform, norm, expon\n"
   ]
  },
  {
   "cell_type": "markdown",
   "id": "205acf23",
   "metadata": {},
   "source": [
    "The Operations Analyst for Piedmont Commuter Airlines (PCA) is looking at optimizing the number of reservations that the airline accepts for a popular regional flight.  The flight operates with a small turbo-prop aircraft with 19 passenger seats available.  PCA sells non-refundable tickets for this flight for \\\\$150 per seat.  Knowing that some passengers will purchase tickets and then not show for the flight, airlines tend to overbook their flights to increase their revenue.  If the flight is overbooked and more than 19 passengers show up, some of them have to be bumped to a later flight.  PCA gives bumped passengers vouchers for a free meal, a free flight at a later date and, if necessary, pays for an overnight stay at an airport hotel.  The average cost of this package is \\\\$325 per bumped passenger."
   ]
  },
  {
   "cell_type": "code",
   "execution_count": 2,
   "id": "a36201e0",
   "metadata": {},
   "outputs": [
    {
     "data": {
      "text/plain": [
       "3450"
      ]
     },
     "execution_count": 2,
     "metadata": {},
     "output_type": "execute_result"
    }
   ],
   "source": [
    "## Deterministic Model\n",
    "\n",
    "## choice variable\n",
    "reservations_accepted = 25\n",
    "\n",
    "## given varaiables\n",
    "seats_available = 19\n",
    "ticket_revenue_per_seat = 150\n",
    "cost_bumping = 325\n",
    "\n",
    "## variables to replace with RNG\n",
    "seats_demanded = 23\n",
    "no_show_passengers = 4\n",
    "\n",
    "## calculated values\n",
    "tickets_sold = min(seats_demanded, reservations_accepted)\n",
    "passengers_to_board = tickets_sold - no_show_passengers\n",
    "\n",
    "ticket_revenue = tickets_sold * ticket_revenue_per_seat\n",
    "total_cost_bumping = max(0, cost_bumping * (passengers_to_board - seats_available))\n",
    "\n",
    "marginal_profit = ticket_revenue - total_cost_bumping\n",
    "\n",
    "marginal_profit"
   ]
  },
  {
   "cell_type": "code",
   "execution_count": 3,
   "id": "006cdd99",
   "metadata": {},
   "outputs": [],
   "source": [
    "## Discrete distribution for seats demanded\n",
    "\n",
    "def seats_demanded_gen(num):\n",
    "    values = np.arange(14, 26)\n",
    "    probs = [.03, .05, .07, .09, .11, .15, .18, .14, .08, .05, .03, .02]\n",
    "\n",
    "    # Draw a weighted sample\n",
    "    results = np.random.choice(values, num, p = probs).tolist()\n",
    "    return results\n",
    "\n",
    "\n"
   ]
  },
  {
   "cell_type": "code",
   "execution_count": 4,
   "id": "74eabb5b",
   "metadata": {},
   "outputs": [
    {
     "data": {
      "text/html": [
       "<div>\n",
       "<style scoped>\n",
       "    .dataframe tbody tr th:only-of-type {\n",
       "        vertical-align: middle;\n",
       "    }\n",
       "\n",
       "    .dataframe tbody tr th {\n",
       "        vertical-align: top;\n",
       "    }\n",
       "\n",
       "    .dataframe thead th {\n",
       "        text-align: right;\n",
       "    }\n",
       "</style>\n",
       "<table border=\"1\" class=\"dataframe\">\n",
       "  <thead>\n",
       "    <tr style=\"text-align: right;\">\n",
       "      <th></th>\n",
       "      <th>0</th>\n",
       "      <th>1</th>\n",
       "      <th>2</th>\n",
       "      <th>3</th>\n",
       "      <th>4</th>\n",
       "      <th>5</th>\n",
       "      <th>6</th>\n",
       "      <th>7</th>\n",
       "      <th>8</th>\n",
       "      <th>9</th>\n",
       "      <th>10</th>\n",
       "      <th>11</th>\n",
       "    </tr>\n",
       "  </thead>\n",
       "  <tbody>\n",
       "    <tr>\n",
       "      <th>seats demanded</th>\n",
       "      <td>14.0000</td>\n",
       "      <td>15.0000</td>\n",
       "      <td>16.000</td>\n",
       "      <td>17.0000</td>\n",
       "      <td>18.0000</td>\n",
       "      <td>19.0000</td>\n",
       "      <td>20.0000</td>\n",
       "      <td>21.0000</td>\n",
       "      <td>22.000</td>\n",
       "      <td>23.0000</td>\n",
       "      <td>24.0000</td>\n",
       "      <td>25.0000</td>\n",
       "    </tr>\n",
       "    <tr>\n",
       "      <th>frequency</th>\n",
       "      <td>293.0000</td>\n",
       "      <td>492.0000</td>\n",
       "      <td>680.000</td>\n",
       "      <td>917.0000</td>\n",
       "      <td>1121.0000</td>\n",
       "      <td>1454.0000</td>\n",
       "      <td>1876.0000</td>\n",
       "      <td>1406.0000</td>\n",
       "      <td>780.000</td>\n",
       "      <td>499.0000</td>\n",
       "      <td>287.0000</td>\n",
       "      <td>195.0000</td>\n",
       "    </tr>\n",
       "    <tr>\n",
       "      <th>percent</th>\n",
       "      <td>0.0293</td>\n",
       "      <td>0.0492</td>\n",
       "      <td>0.068</td>\n",
       "      <td>0.0917</td>\n",
       "      <td>0.1121</td>\n",
       "      <td>0.1454</td>\n",
       "      <td>0.1876</td>\n",
       "      <td>0.1406</td>\n",
       "      <td>0.078</td>\n",
       "      <td>0.0499</td>\n",
       "      <td>0.0287</td>\n",
       "      <td>0.0195</td>\n",
       "    </tr>\n",
       "  </tbody>\n",
       "</table>\n",
       "</div>"
      ],
      "text/plain": [
       "                      0         1        2         3          4          5   \\\n",
       "seats demanded   14.0000   15.0000   16.000   17.0000    18.0000    19.0000   \n",
       "frequency       293.0000  492.0000  680.000  917.0000  1121.0000  1454.0000   \n",
       "percent           0.0293    0.0492    0.068    0.0917     0.1121     0.1454   \n",
       "\n",
       "                       6          7        8         9         10        11  \n",
       "seats demanded    20.0000    21.0000   22.000   23.0000   24.0000   25.0000  \n",
       "frequency       1876.0000  1406.0000  780.000  499.0000  287.0000  195.0000  \n",
       "percent            0.1876     0.1406    0.078    0.0499    0.0287    0.0195  "
      ]
     },
     "execution_count": 4,
     "metadata": {},
     "output_type": "execute_result"
    }
   ],
   "source": [
    "seats_demanded_trials = seats_demanded_gen(10000)\n",
    "\n",
    "unique, counts = np.unique(seats_demanded_trials, return_counts=True)\n",
    "pd.DataFrame([unique, counts, counts/sum(counts)], index = ['seats demanded', 'frequency', 'percent'])"
   ]
  },
  {
   "cell_type": "code",
   "execution_count": 5,
   "id": "af35a19a",
   "metadata": {},
   "outputs": [
    {
     "data": {
      "image/png": "[encoded data removed]",
      "text/plain": [
       "<Figure size 640x480 with 1 Axes>"
      ]
     },
     "metadata": {},
     "output_type": "display_data"
    }
   ],
   "source": [
    "plt.hist(seats_demanded_trials)\n",
    "plt.show()"
   ]
  },
  {
   "cell_type": "code",
   "execution_count": 6,
   "id": "f6091269",
   "metadata": {},
   "outputs": [],
   "source": [
    "## Binomial distribution for no show\n",
    "\n",
    "def no_show_gen(num, tickets_sold):\n",
    "    \n",
    "    prob_no_show = .1\n",
    "    results = []\n",
    "    \n",
    "    for i in np.arange(1, num + 1) :\n",
    "        no_shows = np.random.binomial(tickets_sold, prob_no_show)\n",
    "        results.append(no_shows)\n",
    "    \n",
    "    return results"
   ]
  },
  {
   "cell_type": "code",
   "execution_count": 7,
   "id": "dfd9af66",
   "metadata": {},
   "outputs": [
    {
     "data": {
      "text/html": [
       "<div>\n",
       "<style scoped>\n",
       "    .dataframe tbody tr th:only-of-type {\n",
       "        vertical-align: middle;\n",
       "    }\n",
       "\n",
       "    .dataframe tbody tr th {\n",
       "        vertical-align: top;\n",
       "    }\n",
       "\n",
       "    .dataframe thead th {\n",
       "        text-align: right;\n",
       "    }\n",
       "</style>\n",
       "<table border=\"1\" class=\"dataframe\">\n",
       "  <thead>\n",
       "    <tr style=\"text-align: right;\">\n",
       "      <th></th>\n",
       "      <th>0</th>\n",
       "      <th>1</th>\n",
       "      <th>2</th>\n",
       "      <th>3</th>\n",
       "    </tr>\n",
       "  </thead>\n",
       "  <tbody>\n",
       "    <tr>\n",
       "      <th>seats demanded</th>\n",
       "      <td>0.0</td>\n",
       "      <td>1.0</td>\n",
       "      <td>2.0</td>\n",
       "      <td>3.0</td>\n",
       "    </tr>\n",
       "    <tr>\n",
       "      <th>frequency</th>\n",
       "      <td>2.0</td>\n",
       "      <td>4.0</td>\n",
       "      <td>2.0</td>\n",
       "      <td>2.0</td>\n",
       "    </tr>\n",
       "    <tr>\n",
       "      <th>percent</th>\n",
       "      <td>0.2</td>\n",
       "      <td>0.4</td>\n",
       "      <td>0.2</td>\n",
       "      <td>0.2</td>\n",
       "    </tr>\n",
       "  </tbody>\n",
       "</table>\n",
       "</div>"
      ],
      "text/plain": [
       "                  0    1    2    3\n",
       "seats demanded  0.0  1.0  2.0  3.0\n",
       "frequency       2.0  4.0  2.0  2.0\n",
       "percent         0.2  0.4  0.2  0.2"
      ]
     },
     "execution_count": 7,
     "metadata": {},
     "output_type": "execute_result"
    }
   ],
   "source": [
    "no_shows_trials = no_show_gen(10,20)\n",
    "\n",
    "unique, counts = np.unique(no_shows_trials, return_counts=True)\n",
    "pd.DataFrame([unique, counts, counts/sum(counts)], index = ['seats demanded', 'frequency', 'percent'])"
   ]
  },
  {
   "cell_type": "code",
   "execution_count": 8,
   "id": "ad4e77c9",
   "metadata": {},
   "outputs": [
    {
     "data": {
      "text/plain": [
       "2800"
      ]
     },
     "execution_count": 8,
     "metadata": {},
     "output_type": "execute_result"
    }
   ],
   "source": [
    "## Simulation Model\n",
    "\n",
    "reservations_accepted = 25\n",
    "\n",
    "seats_available = 19\n",
    "ticket_revenue_per_seat = 150\n",
    "cost_bumping = 325\n",
    "\n",
    "seats_demanded = seats_demanded_gen(1)[0]\n",
    "\n",
    "tickets_sold = min(seats_demanded, reservations_accepted)\n",
    "\n",
    "no_show_passengers = no_show_gen(1,tickets_sold)[0]\n",
    "\n",
    "passengers_to_board = tickets_sold - no_show_passengers\n",
    "\n",
    "ticket_revenue = tickets_sold * ticket_revenue_per_seat\n",
    "total_cost_bumping = max(0, cost_bumping * (passengers_to_board - seats_available))\n",
    "\n",
    "marginal_profit = ticket_revenue - total_cost_bumping\n",
    "\n",
    "marginal_profit"
   ]
  },
  {
   "cell_type": "code",
   "execution_count": 9,
   "id": "4b3a5058",
   "metadata": {},
   "outputs": [],
   "source": [
    "## Simulation Trials\n",
    "\n",
    "reservations_accepted = 25\n",
    "\n",
    "seats_available = 19\n",
    "ticket_revenue_per_seat = 150\n",
    "cost_bumping = 325\n",
    "\n",
    "\n",
    "num_trials = 10000\n",
    "Sim = pd.DataFrame(columns = ['seats_demanded', 'no_shows', 'ticket_revenue', 'cost_bumping', 'marginal_profit'])\n",
    "\n",
    "for t in np.arange(1, num_trials + 1) :\n",
    "    seats_demanded = seats_demanded_gen(1)[0]\n",
    "    tickets_sold = min(seats_demanded, reservations_accepted)\n",
    "    no_show_passengers = no_show_gen(1,tickets_sold)[0]\n",
    "    passengers_to_board = tickets_sold - no_show_passengers\n",
    "    ticket_revenue = tickets_sold * ticket_revenue_per_seat\n",
    "    total_cost_bumping = max(0, cost_bumping * (passengers_to_board - seats_available))\n",
    "    marginal_profit = ticket_revenue - total_cost_bumping\n",
    "    Sim.loc[t] = [seats_demanded, no_show_passengers, ticket_revenue, total_cost_bumping, marginal_profit]"
   ]
  },
  {
   "cell_type": "code",
   "execution_count": 10,
   "id": "7f122e94",
   "metadata": {},
   "outputs": [
    {
     "data": {
      "text/html": [
       "<div>\n",
       "<style scoped>\n",
       "    .dataframe tbody tr th:only-of-type {\n",
       "        vertical-align: middle;\n",
       "    }\n",
       "\n",
       "    .dataframe tbody tr th {\n",
       "        vertical-align: top;\n",
       "    }\n",
       "\n",
       "    .dataframe thead th {\n",
       "        text-align: right;\n",
       "    }\n",
       "</style>\n",
       "<table border=\"1\" class=\"dataframe\">\n",
       "  <thead>\n",
       "    <tr style=\"text-align: right;\">\n",
       "      <th></th>\n",
       "      <th>seats_demanded</th>\n",
       "      <th>no_shows</th>\n",
       "      <th>ticket_revenue</th>\n",
       "      <th>cost_bumping</th>\n",
       "      <th>marginal_profit</th>\n",
       "    </tr>\n",
       "  </thead>\n",
       "  <tbody>\n",
       "    <tr>\n",
       "      <th>1</th>\n",
       "      <td>18</td>\n",
       "      <td>1</td>\n",
       "      <td>2700</td>\n",
       "      <td>0</td>\n",
       "      <td>2700</td>\n",
       "    </tr>\n",
       "    <tr>\n",
       "      <th>2</th>\n",
       "      <td>18</td>\n",
       "      <td>2</td>\n",
       "      <td>2700</td>\n",
       "      <td>0</td>\n",
       "      <td>2700</td>\n",
       "    </tr>\n",
       "    <tr>\n",
       "      <th>3</th>\n",
       "      <td>19</td>\n",
       "      <td>0</td>\n",
       "      <td>2850</td>\n",
       "      <td>0</td>\n",
       "      <td>2850</td>\n",
       "    </tr>\n",
       "    <tr>\n",
       "      <th>4</th>\n",
       "      <td>16</td>\n",
       "      <td>0</td>\n",
       "      <td>2400</td>\n",
       "      <td>0</td>\n",
       "      <td>2400</td>\n",
       "    </tr>\n",
       "    <tr>\n",
       "      <th>5</th>\n",
       "      <td>20</td>\n",
       "      <td>3</td>\n",
       "      <td>3000</td>\n",
       "      <td>0</td>\n",
       "      <td>3000</td>\n",
       "    </tr>\n",
       "    <tr>\n",
       "      <th>...</th>\n",
       "      <td>...</td>\n",
       "      <td>...</td>\n",
       "      <td>...</td>\n",
       "      <td>...</td>\n",
       "      <td>...</td>\n",
       "    </tr>\n",
       "    <tr>\n",
       "      <th>9996</th>\n",
       "      <td>19</td>\n",
       "      <td>3</td>\n",
       "      <td>2850</td>\n",
       "      <td>0</td>\n",
       "      <td>2850</td>\n",
       "    </tr>\n",
       "    <tr>\n",
       "      <th>9997</th>\n",
       "      <td>22</td>\n",
       "      <td>2</td>\n",
       "      <td>3300</td>\n",
       "      <td>325</td>\n",
       "      <td>2975</td>\n",
       "    </tr>\n",
       "    <tr>\n",
       "      <th>9998</th>\n",
       "      <td>21</td>\n",
       "      <td>1</td>\n",
       "      <td>3150</td>\n",
       "      <td>325</td>\n",
       "      <td>2825</td>\n",
       "    </tr>\n",
       "    <tr>\n",
       "      <th>9999</th>\n",
       "      <td>18</td>\n",
       "      <td>2</td>\n",
       "      <td>2700</td>\n",
       "      <td>0</td>\n",
       "      <td>2700</td>\n",
       "    </tr>\n",
       "    <tr>\n",
       "      <th>10000</th>\n",
       "      <td>20</td>\n",
       "      <td>2</td>\n",
       "      <td>3000</td>\n",
       "      <td>0</td>\n",
       "      <td>3000</td>\n",
       "    </tr>\n",
       "  </tbody>\n",
       "</table>\n",
       "<p>10000 rows × 5 columns</p>\n",
       "</div>"
      ],
      "text/plain": [
       "       seats_demanded  no_shows  ticket_revenue  cost_bumping  marginal_profit\n",
       "1                  18         1            2700             0             2700\n",
       "2                  18         2            2700             0             2700\n",
       "3                  19         0            2850             0             2850\n",
       "4                  16         0            2400             0             2400\n",
       "5                  20         3            3000             0             3000\n",
       "...               ...       ...             ...           ...              ...\n",
       "9996               19         3            2850             0             2850\n",
       "9997               22         2            3300           325             2975\n",
       "9998               21         1            3150           325             2825\n",
       "9999               18         2            2700             0             2700\n",
       "10000              20         2            3000             0             3000\n",
       "\n",
       "[10000 rows x 5 columns]"
      ]
     },
     "execution_count": 10,
     "metadata": {},
     "output_type": "execute_result"
    }
   ],
   "source": [
    "Sim"
   ]
  },
  {
   "cell_type": "code",
   "execution_count": 11,
   "id": "b2f7e641",
   "metadata": {},
   "outputs": [
    {
     "data": {
      "text/plain": [
       "2762.53"
      ]
     },
     "execution_count": 11,
     "metadata": {},
     "output_type": "execute_result"
    }
   ],
   "source": [
    "Sim['marginal_profit'].mean()"
   ]
  },
  {
   "cell_type": "code",
   "execution_count": 12,
   "id": "df44410c",
   "metadata": {},
   "outputs": [],
   "source": [
    "## Reservations What If\n",
    "\n",
    "reservations_accepted = np.arange(15, 33, 2)\n",
    "\n",
    "seats_available = 19\n",
    "ticket_revenue_per_seat = 150\n",
    "cost_bumping = 325\n",
    "\n",
    "\n",
    "num_trials = 10000\n",
    "SimOutput = pd.DataFrame(columns = ['average_MP'], index = reservations_accepted)\n",
    "\n",
    "for r in reservations_accepted :\n",
    "    marginal_profit_results = []\n",
    "    for t in np.arange(1, num_trials + 1) :\n",
    "        \n",
    "        seats_demanded = seats_demanded_gen(1)[0]\n",
    "        tickets_sold = min(seats_demanded, r)\n",
    "        no_show_passengers = no_show_gen(1,tickets_sold)[0]\n",
    "        passengers_to_board = tickets_sold - no_show_passengers\n",
    "        ticket_revenue = tickets_sold * ticket_revenue_per_seat\n",
    "        total_cost_bumping = max(0, cost_bumping * (passengers_to_board - seats_available))\n",
    "        marginal_profit = ticket_revenue - total_cost_bumping\n",
    "        marginal_profit_results.append(marginal_profit)\n",
    "    \n",
    "    SimOutput.loc[r, 'average_MP'] = np.mean(marginal_profit_results)\n",
    "    "
   ]
  },
  {
   "cell_type": "code",
   "execution_count": 13,
   "id": "6c939ba0",
   "metadata": {
    "scrolled": true
   },
   "outputs": [
    {
     "data": {
      "text/html": [
       "<div>\n",
       "<style scoped>\n",
       "    .dataframe tbody tr th:only-of-type {\n",
       "        vertical-align: middle;\n",
       "    }\n",
       "\n",
       "    .dataframe tbody tr th {\n",
       "        vertical-align: top;\n",
       "    }\n",
       "\n",
       "    .dataframe thead th {\n",
       "        text-align: right;\n",
       "    }\n",
       "</style>\n",
       "<table border=\"1\" class=\"dataframe\">\n",
       "  <thead>\n",
       "    <tr style=\"text-align: right;\">\n",
       "      <th></th>\n",
       "      <th>average_MP</th>\n",
       "    </tr>\n",
       "  </thead>\n",
       "  <tbody>\n",
       "    <tr>\n",
       "      <th>15</th>\n",
       "      <td>2245.44</td>\n",
       "    </tr>\n",
       "    <tr>\n",
       "      <th>17</th>\n",
       "      <td>2512.845</td>\n",
       "    </tr>\n",
       "    <tr>\n",
       "      <th>19</th>\n",
       "      <td>2724.405</td>\n",
       "    </tr>\n",
       "    <tr>\n",
       "      <th>21</th>\n",
       "      <td>2791.205</td>\n",
       "    </tr>\n",
       "    <tr>\n",
       "      <th>23</th>\n",
       "      <td>2775.54</td>\n",
       "    </tr>\n",
       "    <tr>\n",
       "      <th>25</th>\n",
       "      <td>2763.38</td>\n",
       "    </tr>\n",
       "    <tr>\n",
       "      <th>27</th>\n",
       "      <td>2761.31</td>\n",
       "    </tr>\n",
       "    <tr>\n",
       "      <th>29</th>\n",
       "      <td>2769.04</td>\n",
       "    </tr>\n",
       "    <tr>\n",
       "      <th>31</th>\n",
       "      <td>2763.5925</td>\n",
       "    </tr>\n",
       "  </tbody>\n",
       "</table>\n",
       "</div>"
      ],
      "text/plain": [
       "   average_MP\n",
       "15    2245.44\n",
       "17   2512.845\n",
       "19   2724.405\n",
       "21   2791.205\n",
       "23    2775.54\n",
       "25    2763.38\n",
       "27    2761.31\n",
       "29    2769.04\n",
       "31  2763.5925"
      ]
     },
     "execution_count": 13,
     "metadata": {},
     "output_type": "execute_result"
    }
   ],
   "source": [
    "SimOutput"
   ]
  },
  {
   "cell_type": "code",
   "execution_count": null,
   "id": "c289e200",
   "metadata": {},
   "outputs": [],
   "source": []
  },
  {
   "cell_type": "code",
   "execution_count": 14,
   "id": "9268138f",
   "metadata": {},
   "outputs": [
    {
     "name": "stdout",
     "output_type": "stream",
     "text": [
      "Optimal number of reservations: 100\n",
      "Expected revenue with optimal reservations: 15000\n"
     ]
    }
   ],
   "source": [
    "import numpy as np\n",
    "from scipy.optimize import minimize_scalar\n",
    "\n",
    "# Constants\n",
    "num_seats = 19\n",
    "ticket_price = 150\n",
    "bump_cost = 325\n",
    "\n",
    "# Function to calculate expected revenue\n",
    "def expected_revenue(num_reservations):\n",
    "    # Probability of each number of passengers showing up\n",
    "    prob_passengers = np.zeros(num_seats + 1)\n",
    "    for i in range(num_seats + 1):\n",
    "        prob_passengers[i] = np.exp(-num_reservations) * (num_reservations**i) / np.math.factorial(i)\n",
    "    prob_passengers[num_seats] += 1 - np.sum(prob_passengers)\n",
    "\n",
    "    # Expected revenue\n",
    "    revenue = num_reservations * ticket_price\n",
    "    bumped_passengers = max(0, np.sum(prob_passengers) - num_seats)\n",
    "    revenue -= bumped_passengers * bump_cost\n",
    "    return revenue\n",
    "\n",
    "# Optimize the number of reservations\n",
    "optimal_reservations = minimize_scalar(lambda x: -expected_revenue(x), bounds=(0, 100), method='bounded').x\n",
    "\n",
    "print(\"Optimal number of reservations:\", round(optimal_reservations))\n",
    "print(\"Expected revenue with optimal reservations:\", round(expected_revenue(optimal_reservations)))\n"
   ]
  },
  {
   "cell_type": "code",
   "execution_count": 15,
   "id": "db1c7581",
   "metadata": {},
   "outputs": [
    {
     "name": "stdout",
     "output_type": "stream",
     "text": [
      "Optimal overbooking level: 2 extra tickets\n",
      "Expected profit at this level: $2996.89\n"
     ]
    }
   ],
   "source": [
    "import numpy as np\n",
    "\n",
    "# Parameters\n",
    "flight_capacity = 19\n",
    "ticket_price = 150\n",
    "compensation_cost = 325\n",
    "num_simulations = 10000\n",
    "show_up_rate = 0.9  # Assume 90% of passengers show up\n",
    "max_overbooking = 10  # Max extra tickets to sell\n",
    "\n",
    "# Function to simulate one flight\n",
    "def simulate_flight(overbooked_tickets):\n",
    "    # Total seats sold\n",
    "    total_seats_sold = flight_capacity + overbooked_tickets\n",
    "    # Randomly determine if each passenger shows up\n",
    "    show_ups = np.random.rand(total_seats_sold) < show_up_rate\n",
    "    # Count how many passengers showed up\n",
    "    passengers_showed_up = np.sum(show_ups)\n",
    "    # Calculate bumped passengers\n",
    "    bumped_passengers = max(0, passengers_showed_up - flight_capacity)\n",
    "    # Calculate profit\n",
    "    profit = (total_seats_sold * ticket_price) - (bumped_passengers * compensation_cost)\n",
    "    return profit\n",
    "\n",
    "# Simulate multiple flights for different levels of overbooking and calculate average profit\n",
    "average_profits = []\n",
    "for overbooked_tickets in range(max_overbooking + 1):\n",
    "    profits = [simulate_flight(overbooked_tickets) for _ in range(num_simulations)]\n",
    "    average_profits.append(np.mean(profits))\n",
    "\n",
    "# Identify the optimal number of extra tickets to sell\n",
    "optimal_overbooking = np.argmax(average_profits)\n",
    "optimal_profit = average_profits[optimal_overbooking]\n",
    "\n",
    "print(f\"Optimal overbooking level: {optimal_overbooking} extra tickets\")\n",
    "print(f\"Expected profit at this level: ${optimal_profit:.2f}\")\n"
   ]
  },
  {
   "cell_type": "code",
   "execution_count": null,
   "id": "3dbcc7d7",
   "metadata": {},
   "outputs": [],
   "source": []
  }
 ],
 "metadata": {
  "kernelspec": {
   "display_name": "Python 3 (ipykernel)",
   "language": "python",
   "name": "python3"
  },
  "language_info": {
   "codemirror_mode": {
    "name": "ipython",
    "version": 3
   },
   "file_extension": ".py",
   "mimetype": "text/x-python",
   "name": "python",
   "nbconvert_exporter": "python",
   "pygments_lexer": "ipython3",
   "version": "3.11.5"
  }
 },
 "nbformat": 4,
 "nbformat_minor": 5
}
